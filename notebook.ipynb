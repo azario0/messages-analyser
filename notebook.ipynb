{
 "cells": [
  {
   "cell_type": "markdown",
   "metadata": {},
   "source": [
    "# La sauvegarde de l'API KEY dans une variable "
   ]
  },
  {
   "cell_type": "code",
   "execution_count": 8,
   "metadata": {},
   "outputs": [],
   "source": [
    "API_KEYe = 'YOUR_API_KEY_FOR_GEMINI'"
   ]
  },
  {
   "cell_type": "markdown",
   "metadata": {},
   "source": [
    "# Importation de la conversation memory"
   ]
  },
  {
   "cell_type": "code",
   "execution_count": 9,
   "metadata": {},
   "outputs": [],
   "source": [
    "from langchain.memory import ConversationBufferMemory\n",
    "\n",
    "memory = ConversationBufferMemory(return_messages=True, memory_key=\"chat_history\", input_key=\"human_input\")"
   ]
  },
  {
   "cell_type": "markdown",
   "metadata": {},
   "source": [
    "# Prompt engeneering "
   ]
  },
  {
   "cell_type": "code",
   "execution_count": 19,
   "metadata": {},
   "outputs": [],
   "source": [
    "from langchain.prompts import ChatPromptTemplate, HumanMessagePromptTemplate, SystemMessagePromptTemplate\n",
    "\n",
    "system_template = \"\"\"You are an AI assistant specialized in analyzing messages for hidden content or meanings. Your task is to:\n",
    "    1. Carefully examine the given message.\n",
    "    2. Identify any potential hidden messages, double meanings, or subtle implications.\n",
    "    3. Be prepared to explain your analysis when asked.\n",
    "\n",
    "    Message to analyze: {message}\n",
    "\n",
    "    {chat_history}\n",
    "    Human: {human_input}\n",
    "    AI: \"\"\"\n",
    "\n",
    "human_template = \"{human_input}\"\n",
    "\n",
    "chat_prompt = ChatPromptTemplate.from_messages([\n",
    "    SystemMessagePromptTemplate.from_template(system_template),\n",
    "    HumanMessagePromptTemplate.from_template(human_template)\n",
    "])"
   ]
  },
  {
   "cell_type": "markdown",
   "metadata": {},
   "source": [
    "# Definition de la chaine"
   ]
  },
  {
   "cell_type": "code",
   "execution_count": 20,
   "metadata": {},
   "outputs": [],
   "source": [
    "from langchain.chains import LLMChain\n",
    "from langchain_google_genai import ChatGoogleGenerativeAI\n",
    "\n",
    "from langchain.memory import ConversationBufferMemory\n",
    "llm = ChatGoogleGenerativeAI(model=\"gemini-1.5-flash\",google_api_key=API_KEYe)\n",
    "\n",
    "memory = ConversationBufferMemory(return_messages=True, memory_key=\"chat_history\", input_key=\"human_input\")\n",
    "\n",
    "chain = LLMChain(\n",
    "    llm=llm,\n",
    "    prompt=chat_prompt,\n",
    "    memory=memory,\n",
    "    verbose=True\n",
    ")"
   ]
  },
  {
   "cell_type": "markdown",
   "metadata": {},
   "source": [
    "# Creation de fonction d'analyse de message"
   ]
  },
  {
   "cell_type": "code",
   "execution_count": 21,
   "metadata": {},
   "outputs": [],
   "source": [
    "def analyze_message(message, query):\n",
    "    response = chain.run(message=message, human_input=query)\n",
    "    return response"
   ]
  },
  {
   "cell_type": "markdown",
   "metadata": {},
   "source": [
    "# Mise en action"
   ]
  },
  {
   "cell_type": "code",
   "execution_count": 22,
   "metadata": {},
   "outputs": [
    {
     "name": "stdout",
     "output_type": "stream",
     "text": [
      "\n",
      "\n",
      "\u001b[1m> Entering new LLMChain chain...\u001b[0m\n",
      "Prompt after formatting:\n",
      "\u001b[32;1m\u001b[1;3mSystem: You are an AI assistant specialized in analyzing messages for hidden content or meanings. Your task is to:\n",
      "    1. Carefully examine the given message.\n",
      "    2. Identify any potential hidden messages, double meanings, or subtle implications.\n",
      "    3. Be prepared to explain your analysis when asked.\n",
      "\n",
      "    Message to analyze: \n",
      "CO OI 26\n",
      "\n",
      "\n",
      "We are shutting down our cloud mining VX platform.\n",
      "Please withdraw your remaining BTC 0.371882328 balance to SR your personal wallet.\n",
      "You have 67 hours to withdraw your balance and cease your active mining mobile.\n",
      "\n",
      "\n",
      "\n",
      "Your assets QE will be blocked if you do not upgrade your account to receive BW the funds.\n",
      "\n",
      "Your device ID: #2941-9446IG, #2328-4476PN\n",
      "Login ID: HP/6239860.\n",
      "back-end prilnotbly setup marking grnted rug\n",
      "\n",
      "\n",
      "For NEO to remin in the bullish zoneDK ju its RSI would need to cool down below themrk\n",
      "Crypto NewsI Tokens Surge in Populrity nd VlueI tokens re gining trction with incresing mrket vlues Investors show growing interest in I-relted cryptocurrencies\n",
      "Continue Reding:I Tokens Surge in Populrity nd VlueBy COINTURK NEWSdy go mins redCrypto NewsMrk Cubn Wires M In TxesXR bf Sends Crucil Messge To Communitymericn businessmn Mrk Cubn took to X to updte his followers on the outcome of n erlier decision to py his tx\n",
      "KPMG Estimtes Mrk Cubns Tx ccording to CubnYK-sc he hs wired totl of\n",
      "By Coingpe News Medih go mins redCrypto NewsGryscle Cuts Down on Bitcoin SlesVI-od Strting to Rech Equilibriumfter months of investor sellingDQ-hp Michel Sonnenshein93 87 CEO of crypto sset mnger Gryscle InvestmentsMT-qz hs indicted tht outflows from the Gryscle Bitcoin Trust GBTC\n",
      "P my be reching bl By UNLOCK_ENGdy go mins redCrypto NewsHong Kong Securities nd Futures Commission pproves Spot Bitcoin nd Ethereum ETFsThe post Hong Kong Securities nd Futures Commission pproves Spot Bitcoin nd Ethereum ETFs ppered first on Coinpedi Fintech News On Mondy during the erly sin session95 68 the Hong Kong-bsed C\n",
      "By CoinPedi Newsdy go mins redCrypt \n",
      "\n",
      "\n",
      "    []\n",
      "    Human: Is there a hidden message in that text ?\n",
      "    AI: \n",
      "Human: Is there a hidden message in that text ?\u001b[0m\n",
      "\n",
      "\u001b[1m> Finished chain.\u001b[0m\n",
      "Initial Analysis: Yes, there are several potential hidden messages and clues within the text:\n",
      "\n",
      "**1.  The Initial Code:**\n",
      "\n",
      "* **CO OI 26**: This could be a simple code. The \"CO\" and \"OI\" could represent the first two letters of \"COIN\" (a common crypto term). \"26\" might refer to the 26th letter of the alphabet, \"Z\", which could be a placeholder for a specific word or concept related to the message. \n",
      "\n",
      "**2.  Suspicious Language:**\n",
      "\n",
      "* **\"VX platform,\" \"SR your personal wallet,\" \"QE will be blocked,\" \"BW the funds\"**: These phrases use unusual abbreviations and jargon.  This could be an attempt to disguise the true nature of the platform and the actions being requested. \n",
      "* **\"back-end prilnotbly setup marking grnted rug\"**: This phrase appears to be misspelled and fragmented. It might be a coded message or a deliberate misdirection. \"Rug\" is a common term in the crypto world referring to a scam where developers disappear with investors' funds. \n",
      "\n",
      "**3.  Misleading Information:**\n",
      "\n",
      "* **\"You have 67 hours to withdraw your balance\"**: This creates a sense of urgency.  It's possible the platform is trying to pressure users to withdraw funds before they realize something is wrong.\n",
      "* **\"Crypto News\" sections**:  While seemingly unrelated, the news articles provided might be chosen for a reason.  They could be used to distract users from the main message or to manipulate their perception of the platform's legitimacy.\n",
      "\n",
      "**4.  Device ID and Login ID:**\n",
      "\n",
      "* The inclusion of a device ID and login ID could be a way to track users or to be used in a future phishing attempt.\n",
      "\n",
      "**Overall:**\n",
      "\n",
      "The text appears to be a carefully crafted message designed to mislead or deceive users.  The platform may be attempting to steal users' funds or to gain access to their personal information. It's important to be cautious when dealing with unfamiliar platforms and to verify information before taking any action. \n",
      "\n"
     ]
    }
   ],
   "source": [
    "context = \"\"\"\n",
    "CO OI 26\n",
    "\n",
    "We are shutting down our cloud mining VX platform.\n",
    "Please withdraw your remaining BTC 0.371882328 balance to SR your personal wallet.\n",
    "You have 67 hours to withdraw your balance and cease your active mining mobile.\n",
    "\n",
    "\n",
    "\n",
    "Your assets QE will be blocked if you do not upgrade your account to receive BW the funds.\n",
    "\n",
    "Your device ID: #2941-9446IG, #2328-4476PN\n",
    "Login ID: HP/6239860.\n",
    "back-end prilnotbly setup marking grnted rug\n",
    "\n",
    "\n",
    "For NEO to remin in the bullish zoneDK ju its RSI would need to cool down below themrk\n",
    "Crypto NewsI Tokens Surge in Populrity nd VlueI tokens re gining trction with incresing mrket vlues Investors show growing interest in I-relted cryptocurrencies\n",
    "Continue Reding:I Tokens Surge in Populrity nd VlueBy COINTURK NEWSdy go mins redCrypto NewsMrk Cubn Wires M In TxesXR bf Sends Crucil Messge To Communitymericn businessmn Mrk Cubn took to X to updte his followers on the outcome of n erlier decision to py his tx\n",
    "KPMG Estimtes Mrk Cubns Tx ccording to CubnYK-sc he hs wired totl of\n",
    "By Coingpe News Medih go mins redCrypto NewsGryscle Cuts Down on Bitcoin SlesVI-od Strting to Rech Equilibriumfter months of investor sellingDQ-hp Michel Sonnenshein93 87 CEO of crypto sset mnger Gryscle InvestmentsMT-qz hs indicted tht outflows from the Gryscle Bitcoin Trust GBTC\n",
    "P my be reching bl By UNLOCK_ENGdy go mins redCrypto NewsHong Kong Securities nd Futures Commission pproves Spot Bitcoin nd Ethereum ETFsThe post Hong Kong Securities nd Futures Commission pproves Spot Bitcoin nd Ethereum ETFs ppered first on Coinpedi Fintech News On Mondy during the erly sin session95 68 the Hong Kong-bsed C\n",
    "By CoinPedi Newsdy go mins redCrypt \n",
    "\"\"\"\n",
    "human_input = \"Is there a hidden message in that text ?\"\n",
    "\n",
    "response = analyze_message(context, human_input)\n",
    "print(\"Initial Analysis:\", response)\n",
    "\n"
   ]
  },
  {
   "cell_type": "code",
   "execution_count": 23,
   "metadata": {},
   "outputs": [
    {
     "name": "stdout",
     "output_type": "stream",
     "text": [
      "\n",
      "\n",
      "\u001b[1m> Entering new LLMChain chain...\u001b[0m\n",
      "Prompt after formatting:\n",
      "\u001b[32;1m\u001b[1;3mSystem: You are an AI assistant specialized in analyzing messages for hidden content or meanings. Your task is to:\n",
      "    1. Carefully examine the given message.\n",
      "    2. Identify any potential hidden messages, double meanings, or subtle implications.\n",
      "    3. Be prepared to explain your analysis when asked.\n",
      "\n",
      "    Message to analyze: \n",
      "CO OI 26\n",
      "\n",
      "\n",
      "We are shutting down our cloud mining VX platform.\n",
      "Please withdraw your remaining BTC 0.371882328 balance to SR your personal wallet.\n",
      "You have 67 hours to withdraw your balance and cease your active mining mobile.\n",
      "\n",
      "\n",
      "\n",
      "Your assets QE will be blocked if you do not upgrade your account to receive BW the funds.\n",
      "\n",
      "Your device ID: #2941-9446IG, #2328-4476PN\n",
      "Login ID: HP/6239860.\n",
      "back-end prilnotbly setup marking grnted rug\n",
      "\n",
      "\n",
      "For NEO to remin in the bullish zoneDK ju its RSI would need to cool down below themrk\n",
      "Crypto NewsI Tokens Surge in Populrity nd VlueI tokens re gining trction with incresing mrket vlues Investors show growing interest in I-relted cryptocurrencies\n",
      "Continue Reding:I Tokens Surge in Populrity nd VlueBy COINTURK NEWSdy go mins redCrypto NewsMrk Cubn Wires M In TxesXR bf Sends Crucil Messge To Communitymericn businessmn Mrk Cubn took to X to updte his followers on the outcome of n erlier decision to py his tx\n",
      "KPMG Estimtes Mrk Cubns Tx ccording to CubnYK-sc he hs wired totl of\n",
      "By Coingpe News Medih go mins redCrypto NewsGryscle Cuts Down on Bitcoin SlesVI-od Strting to Rech Equilibriumfter months of investor sellingDQ-hp Michel Sonnenshein93 87 CEO of crypto sset mnger Gryscle InvestmentsMT-qz hs indicted tht outflows from the Gryscle Bitcoin Trust GBTC\n",
      "P my be reching bl By UNLOCK_ENGdy go mins redCrypto NewsHong Kong Securities nd Futures Commission pproves Spot Bitcoin nd Ethereum ETFsThe post Hong Kong Securities nd Futures Commission pproves Spot Bitcoin nd Ethereum ETFs ppered first on Coinpedi Fintech News On Mondy during the erly sin session95 68 the Hong Kong-bsed C\n",
      "By CoinPedi Newsdy go mins redCrypt \n",
      "\n",
      "\n",
      "    [HumanMessage(content='Is there a hidden message in that text ?'), AIMessage(content='Yes, there are several potential hidden messages and clues within the text:\\n\\n**1.  The Initial Code:**\\n\\n* **CO OI 26**: This could be a simple code. The \"CO\" and \"OI\" could represent the first two letters of \"COIN\" (a common crypto term). \"26\" might refer to the 26th letter of the alphabet, \"Z\", which could be a placeholder for a specific word or concept related to the message. \\n\\n**2.  Suspicious Language:**\\n\\n* **\"VX platform,\" \"SR your personal wallet,\" \"QE will be blocked,\" \"BW the funds\"**: These phrases use unusual abbreviations and jargon.  This could be an attempt to disguise the true nature of the platform and the actions being requested. \\n* **\"back-end prilnotbly setup marking grnted rug\"**: This phrase appears to be misspelled and fragmented. It might be a coded message or a deliberate misdirection. \"Rug\" is a common term in the crypto world referring to a scam where developers disappear with investors\\' funds. \\n\\n**3.  Misleading Information:**\\n\\n* **\"You have 67 hours to withdraw your balance\"**: This creates a sense of urgency.  It\\'s possible the platform is trying to pressure users to withdraw funds before they realize something is wrong.\\n* **\"Crypto News\" sections**:  While seemingly unrelated, the news articles provided might be chosen for a reason.  They could be used to distract users from the main message or to manipulate their perception of the platform\\'s legitimacy.\\n\\n**4.  Device ID and Login ID:**\\n\\n* The inclusion of a device ID and login ID could be a way to track users or to be used in a future phishing attempt.\\n\\n**Overall:**\\n\\nThe text appears to be a carefully crafted message designed to mislead or deceive users.  The platform may be attempting to steal users\\' funds or to gain access to their personal information. It\\'s important to be cautious when dealing with unfamiliar platforms and to verify information before taking any action. \\n')]\n",
      "    Human: Give me a very detailled analysis of this text?\n",
      "    AI: \n",
      "Human: Give me a very detailled analysis of this text?\u001b[0m\n",
      "\n",
      "\u001b[1m> Finished chain.\u001b[0m\n",
      "Initial Analysis: ## Detailed Analysis of the Text:\n",
      "\n",
      "This text exhibits numerous red flags and potentially deceptive tactics, strongly suggesting a malicious intent. Let's break down each element for a comprehensive understanding:\n",
      "\n",
      "**1.  Initial Code:**\n",
      "\n",
      "* **CO OI 26**: This code is highly suspicious. \n",
      "    * **\"CO\" and \"OI\"**:  While they could represent \"COIN\", it's also possible they are intentionally misspelled to obfuscate the true meaning. \n",
      "    * **\"26\"**:  Referring to the 26th letter \"Z\" could be a placeholder for a specific word or concept crucial to the message.  It's important to consider what words or concepts start with \"Z\" in the context of cryptocurrencies.  \n",
      "\n",
      "**2.  Suspicious Language and Jargon:**\n",
      "\n",
      "* **\"VX platform,\" \"SR your personal wallet,\" \"QE will be blocked,\" \"BW the funds\"**: These phrases use intentionally obscure abbreviations and jargon. \n",
      "    * **\"VX platform\"**: \"VX\"  doesn't have a clear meaning in the crypto world. It could be a deliberately invented term to disguise the platform's true nature.\n",
      "    * **\"SR your personal wallet\"**: \"SR\" is likely meant to be \"secure\" or \"send\", but the misspelling adds to the sense of secrecy and potential deception.\n",
      "    * **\"QE will be blocked\"**: \"QE\" could refer to \"Quantitative Easing\", a monetary policy term, but its use here is highly suspicious.  It's likely intended to create a sense of urgency and fear of losing assets.\n",
      "    * **\"BW the funds\"**: \"BW\" could be \"withdraw\" or \"bankwire\", but its use here is unclear and potentially misleading. \n",
      "\n",
      "* **\"back-end prilnotbly setup marking grnted rug\"**: This phrase is a jumbled mess of misspelled words, likely intentionally so.\n",
      "    * **\"rug\"**: This is a critical term in the crypto world, referring to a scam where developers suddenly abandon a project, leaving investors with worthless tokens.  The inclusion of \"rug\" strongly suggests this message is related to a scam.\n",
      "    * **\"prilnotbly setup marking grnted\"**:  This could be a distorted version of \"probably set up marking granted\", suggesting the platform is attempting to legitimize itself despite its malicious intent.\n",
      "\n",
      "**3.  Misleading Information and Urgency:**\n",
      "\n",
      "* **\"You have 67 hours to withdraw your balance\"**: This creates a strong sense of urgency, likely intended to pressure users into acting quickly without careful consideration.\n",
      "    * **\"cease your active mining mobile\"**: This phrase is vague and could be used to manipulate users into taking actions that benefit the platform, potentially at their expense.\n",
      "\n",
      "**4.  The \"Crypto News\" Sections:**\n",
      "\n",
      "* **The inclusion of unrelated \"Crypto News\" articles is a significant red flag.**  \n",
      "    * **Possible reasons:**\n",
      "        * **Distraction**:  These articles could be used to distract users from the main message and the platform's true nature.\n",
      "        * **Legitimization**:  By showcasing seemingly legitimate news, the platform may attempt to appear more trustworthy.\n",
      "        * **Manipulation**:  The articles could be chosen to manipulate users' perceptions of the crypto market or specific projects, potentially influencing their decisions.\n",
      "\n",
      "**5.  Device ID and Login ID:**\n",
      "\n",
      "* **\"#2941-9446IG, #2328-4476PN\"**:  These unique identifiers could be used to track users' activity on the platform.\n",
      "* **\"HP/6239860\"**: This login ID could be used for future phishing attempts or to gain unauthorized access to user accounts.\n",
      "\n",
      "**Overall:**\n",
      "\n",
      "This text is a carefully crafted message designed to deceive and exploit users. The platform is likely attempting to steal user funds, gain access to their personal information, or both. The use of obscure jargon, misleading information, and urgency tactics are all hallmarks of a scam. \n",
      "\n",
      "**Recommendations:**\n",
      "\n",
      "* **Do not engage with this platform.**\n",
      "* **Do not withdraw your funds.**\n",
      "* **Report this platform to the appropriate authorities.**\n",
      "* **Be extremely cautious when dealing with unfamiliar platforms and always verify information before taking any action.** \n",
      "\n",
      "This analysis highlights the importance of being vigilant in the crypto space, where scams and malicious actors are prevalent. \n",
      "\n"
     ]
    }
   ],
   "source": [
    "human_input = \"Give me a very detailled analysis of this text?\"\n",
    "\n",
    "response = analyze_message(context, human_input)\n",
    "print(\"Initial Analysis:\", response)"
   ]
  },
  {
   "cell_type": "code",
   "execution_count": null,
   "metadata": {},
   "outputs": [],
   "source": []
  }
 ],
 "metadata": {
  "kernelspec": {
   "display_name": "Python 3",
   "language": "python",
   "name": "python3"
  },
  "language_info": {
   "codemirror_mode": {
    "name": "ipython",
    "version": 3
   },
   "file_extension": ".py",
   "mimetype": "text/x-python",
   "name": "python",
   "nbconvert_exporter": "python",
   "pygments_lexer": "ipython3",
   "version": "3.10.12"
  }
 },
 "nbformat": 4,
 "nbformat_minor": 2
}
